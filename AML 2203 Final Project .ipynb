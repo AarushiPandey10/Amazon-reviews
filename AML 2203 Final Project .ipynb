{
 "cells": [
  {
   "cell_type": "code",
   "execution_count": 1,
   "metadata": {},
   "outputs": [],
   "source": [
    "from __future__ import print_function\n",
    "import matplotlib.pyplot as plt\n",
    "import numpy as np\n",
    "import os\n",
    "import sys\n",
    "from six.moves import cPickle as pickle\n",
    "import pandas as pd\n",
    "import gzip\n",
    "import seaborn as sns\n",
    "import string\n",
    "from time import time\n",
    "import nltk\n",
    "from nltk.corpus import stopwords \n",
    "stops = set(stopwords.words(\"english\"))\n",
    "from urllib.request import urlretrieve\n",
    "# Allows the use of display() for DataFrames\n",
    "from IPython.display import display \n",
    "import warnings\n",
    "warnings.filterwarnings('ignore')\n",
    "%matplotlib inline"
   ]
  },
  {
   "cell_type": "markdown",
   "metadata": {},
   "source": [
    "## Data Exploration"
   ]
  },
  {
   "cell_type": "code",
   "execution_count": 2,
   "metadata": {},
   "outputs": [
    {
     "name": "stdout",
     "output_type": "stream",
     "text": [
      "http://snap.stanford.edu/data/amazon/productGraph/categoryFiles/reviews_Apps_for_Android_5.json.gz\n",
      "Found and verified test.json.gz\n"
     ]
    }
   ],
   "source": [
    "DATASET_NAME = 'reviews_Apps_for_Android_5.json.gz'\n",
    "url = 'http://snap.stanford.edu/data/amazon/productGraph/categoryFiles/'+DATASET_NAME\n",
    "last_percent_reported = None\n",
    "\n",
    "#ur.urlretrieve(url)\n",
    "print(url)\n",
    "\n",
    "def download_progress_hook(count, blockSize, totalSize):\n",
    "    \"\"\"A hook to report the progress of a download. This is mostly intended for users with\n",
    "    slow internet connections. Reports every 1% change in download progress.\n",
    "    \"\"\"\n",
    "    global last_percent_reported\n",
    "    percent = int(count * blockSize * 100 / totalSize)\n",
    "\n",
    "    if last_percent_reported != percent:\n",
    "        if percent % 5 == 0:\n",
    "            sys.stdout.write(\"%s%%\" % percent)\n",
    "            sys.stdout.flush()\n",
    "        else:\n",
    "            sys.stdout.write(\".\")\n",
    "            sys.stdout.flush()\n",
    "            \n",
    "        last_percent_reported = percent\n",
    "                \n",
    "def maybe_download(filename, expected_bytes, force=False):\n",
    "    \"\"\"Download a file if not present, and make sure it's the right size.\"\"\"\n",
    "    if force or not os.path.exists(filename):\n",
    "        print('Attempting to download:', filename) \n",
    "        #filename, _ = ur.urlretrieve(url + filename, filename, reporthook=download_progress_hook)\n",
    "        print(url)\n",
    "        print(filename)\n",
    "        print(urlretrieve(url, str(filename)))\n",
    "        print('\\nDownload Complete!')\n",
    "    statinfo = os.stat(filename)\n",
    "    if statinfo.st_size == expected_bytes:\n",
    "        print('Found and verified', filename)\n",
    "    else:\n",
    "        raise Exception(\n",
    "            'Failed to verify ' + filename + '. Can you get to it with a browser?')\n",
    "    return filename\n",
    "\n",
    "#path = \"C:\\Users\\NITESH\\Downloads\\test.json.gz\"\n",
    "filename = \"test.json.gz\"\n",
    "#file = str(input(\"Enter file path\"))\n",
    "#test = maybe_download(file, 95509687)\n",
    "test = maybe_download(filename, 95509687)"
   ]
  },
  {
   "cell_type": "markdown",
   "metadata": {},
   "source": [
    "We will now convert the data from \"json\" to a dataframe and we will pickle the file as well.\n"
   ]
  },
  {
   "cell_type": "code",
   "execution_count": 3,
   "metadata": {},
   "outputs": [
    {
     "name": "stdout",
     "output_type": "stream",
     "text": [
      "Pickled file already present, loading...\n",
      "Pickle file loaded...\n"
     ]
    }
   ],
   "source": [
    "def parse(path):\n",
    "    g = gzip.open(path, 'rb')\n",
    "    for l in g:\n",
    "        yield eval(l)\n",
    "\n",
    "def getDF(path):\n",
    "    i = 0\n",
    "    data = {}\n",
    "    for d in parse(path):\n",
    "        data[i] = d\n",
    "        i += 1\n",
    "    return pd.DataFrame.from_dict(data, orient='index')\n",
    "\n",
    "#removes extensions and adds pickle.\n",
    "pickle_file_name = (filename[:-8]+'.pickle')\n",
    "\n",
    "\n",
    "#loads pickle if exists, extracts and pickles if it doesn't\n",
    "if os.path.exists(pickle_file_name):\n",
    "    print ('Pickled file already present, loading...')\n",
    "    data = pd.read_pickle(pickle_file_name)\n",
    "    print ('Pickle file loaded...')\n",
    "else:\n",
    "    data = getDF(filename)\n",
    "    data.to_pickle(pickle_file_name)"
   ]
  },
  {
   "cell_type": "code",
   "execution_count": 4,
   "metadata": {},
   "outputs": [
    {
     "data": {
      "text/html": [
       "<div>\n",
       "<style scoped>\n",
       "    .dataframe tbody tr th:only-of-type {\n",
       "        vertical-align: middle;\n",
       "    }\n",
       "\n",
       "    .dataframe tbody tr th {\n",
       "        vertical-align: top;\n",
       "    }\n",
       "\n",
       "    .dataframe thead th {\n",
       "        text-align: right;\n",
       "    }\n",
       "</style>\n",
       "<table border=\"1\" class=\"dataframe\">\n",
       "  <thead>\n",
       "    <tr style=\"text-align: right;\">\n",
       "      <th></th>\n",
       "      <th>reviewerID</th>\n",
       "      <th>asin</th>\n",
       "      <th>reviewerName</th>\n",
       "      <th>helpful</th>\n",
       "      <th>reviewText</th>\n",
       "      <th>overall</th>\n",
       "      <th>summary</th>\n",
       "      <th>unixReviewTime</th>\n",
       "      <th>reviewTime</th>\n",
       "    </tr>\n",
       "  </thead>\n",
       "  <tbody>\n",
       "    <tr>\n",
       "      <th>0</th>\n",
       "      <td>A1N4O8VOJZTDVB</td>\n",
       "      <td>B004A9SDD8</td>\n",
       "      <td>Annette Yancey</td>\n",
       "      <td>[1, 1]</td>\n",
       "      <td>Loves the song, so he really couldn't wait to ...</td>\n",
       "      <td>3.0</td>\n",
       "      <td>Really cute</td>\n",
       "      <td>1383350400</td>\n",
       "      <td>11 2, 2013</td>\n",
       "    </tr>\n",
       "    <tr>\n",
       "      <th>1</th>\n",
       "      <td>A2HQWU6HUKIEC7</td>\n",
       "      <td>B004A9SDD8</td>\n",
       "      <td>Audiobook lover \"Kathy\"</td>\n",
       "      <td>[0, 0]</td>\n",
       "      <td>Oh, how my little grandson loves this app. He'...</td>\n",
       "      <td>5.0</td>\n",
       "      <td>2-year-old loves it</td>\n",
       "      <td>1323043200</td>\n",
       "      <td>12 5, 2011</td>\n",
       "    </tr>\n",
       "    <tr>\n",
       "      <th>2</th>\n",
       "      <td>A1SXASF6GYG96I</td>\n",
       "      <td>B004A9SDD8</td>\n",
       "      <td>Barbara Gibbs</td>\n",
       "      <td>[0, 0]</td>\n",
       "      <td>I found this at a perfect time since my daught...</td>\n",
       "      <td>5.0</td>\n",
       "      <td>Fun game</td>\n",
       "      <td>1337558400</td>\n",
       "      <td>05 21, 2012</td>\n",
       "    </tr>\n",
       "    <tr>\n",
       "      <th>3</th>\n",
       "      <td>A2B54P9ZDYH167</td>\n",
       "      <td>B004A9SDD8</td>\n",
       "      <td>Brooke Greenstreet \"Babylove\"</td>\n",
       "      <td>[3, 4]</td>\n",
       "      <td>My 1 year old goes back to this game over and ...</td>\n",
       "      <td>5.0</td>\n",
       "      <td>We love our Monkeys!</td>\n",
       "      <td>1354752000</td>\n",
       "      <td>12 6, 2012</td>\n",
       "    </tr>\n",
       "    <tr>\n",
       "      <th>4</th>\n",
       "      <td>AFOFZDTX5UC6D</td>\n",
       "      <td>B004A9SDD8</td>\n",
       "      <td>C. Galindo</td>\n",
       "      <td>[1, 1]</td>\n",
       "      <td>There are three different versions of the song...</td>\n",
       "      <td>5.0</td>\n",
       "      <td>This is my granddaughters favorite app on my K...</td>\n",
       "      <td>1391212800</td>\n",
       "      <td>02 1, 2014</td>\n",
       "    </tr>\n",
       "    <tr>\n",
       "      <th>5</th>\n",
       "      <td>A331GYAT4ESYI3</td>\n",
       "      <td>B004A9SDD8</td>\n",
       "      <td>Felicia</td>\n",
       "      <td>[3, 3]</td>\n",
       "      <td>THis is just so cute and a great app for littl...</td>\n",
       "      <td>5.0</td>\n",
       "      <td>so cute</td>\n",
       "      <td>1354665600</td>\n",
       "      <td>12 5, 2012</td>\n",
       "    </tr>\n",
       "    <tr>\n",
       "      <th>6</th>\n",
       "      <td>A2YEHF8T823TDC</td>\n",
       "      <td>B004A9SDD8</td>\n",
       "      <td>Gale White Miller</td>\n",
       "      <td>[3, 4]</td>\n",
       "      <td>I watch my great grandson 4 days a week and it...</td>\n",
       "      <td>5.0</td>\n",
       "      <td>Terrific!</td>\n",
       "      <td>1381708800</td>\n",
       "      <td>10 14, 2013</td>\n",
       "    </tr>\n",
       "    <tr>\n",
       "      <th>7</th>\n",
       "      <td>A3699WHISXX94Z</td>\n",
       "      <td>B004A9SDD8</td>\n",
       "      <td>Janie Leonard</td>\n",
       "      <td>[0, 0]</td>\n",
       "      <td>This app is wild and crazy.  Little ones love ...</td>\n",
       "      <td>5.0</td>\n",
       "      <td>Five Little Monkeys</td>\n",
       "      <td>1389484800</td>\n",
       "      <td>01 12, 2014</td>\n",
       "    </tr>\n",
       "    <tr>\n",
       "      <th>8</th>\n",
       "      <td>A2BXV49EIES2TB</td>\n",
       "      <td>B004A9SDD8</td>\n",
       "      <td>Kayla</td>\n",
       "      <td>[3, 4]</td>\n",
       "      <td>love love love this app. I was going through d...</td>\n",
       "      <td>5.0</td>\n",
       "      <td>love but to quite</td>\n",
       "      <td>1386720000</td>\n",
       "      <td>12 11, 2013</td>\n",
       "    </tr>\n",
       "    <tr>\n",
       "      <th>9</th>\n",
       "      <td>A37HM5TMCMHJES</td>\n",
       "      <td>B004A9SDD8</td>\n",
       "      <td>kmc</td>\n",
       "      <td>[0, 0]</td>\n",
       "      <td>Very cute, with alot of items to move about.  ...</td>\n",
       "      <td>5.0</td>\n",
       "      <td>Cute</td>\n",
       "      <td>1366934400</td>\n",
       "      <td>04 26, 2013</td>\n",
       "    </tr>\n",
       "  </tbody>\n",
       "</table>\n",
       "</div>"
      ],
      "text/plain": [
       "       reviewerID        asin                   reviewerName helpful  \\\n",
       "0  A1N4O8VOJZTDVB  B004A9SDD8                 Annette Yancey  [1, 1]   \n",
       "1  A2HQWU6HUKIEC7  B004A9SDD8        Audiobook lover \"Kathy\"  [0, 0]   \n",
       "2  A1SXASF6GYG96I  B004A9SDD8                  Barbara Gibbs  [0, 0]   \n",
       "3  A2B54P9ZDYH167  B004A9SDD8  Brooke Greenstreet \"Babylove\"  [3, 4]   \n",
       "4   AFOFZDTX5UC6D  B004A9SDD8                     C. Galindo  [1, 1]   \n",
       "5  A331GYAT4ESYI3  B004A9SDD8                        Felicia  [3, 3]   \n",
       "6  A2YEHF8T823TDC  B004A9SDD8              Gale White Miller  [3, 4]   \n",
       "7  A3699WHISXX94Z  B004A9SDD8                  Janie Leonard  [0, 0]   \n",
       "8  A2BXV49EIES2TB  B004A9SDD8                          Kayla  [3, 4]   \n",
       "9  A37HM5TMCMHJES  B004A9SDD8                            kmc  [0, 0]   \n",
       "\n",
       "                                          reviewText  overall  \\\n",
       "0  Loves the song, so he really couldn't wait to ...      3.0   \n",
       "1  Oh, how my little grandson loves this app. He'...      5.0   \n",
       "2  I found this at a perfect time since my daught...      5.0   \n",
       "3  My 1 year old goes back to this game over and ...      5.0   \n",
       "4  There are three different versions of the song...      5.0   \n",
       "5  THis is just so cute and a great app for littl...      5.0   \n",
       "6  I watch my great grandson 4 days a week and it...      5.0   \n",
       "7  This app is wild and crazy.  Little ones love ...      5.0   \n",
       "8  love love love this app. I was going through d...      5.0   \n",
       "9  Very cute, with alot of items to move about.  ...      5.0   \n",
       "\n",
       "                                             summary  unixReviewTime  \\\n",
       "0                                        Really cute      1383350400   \n",
       "1                                2-year-old loves it      1323043200   \n",
       "2                                           Fun game      1337558400   \n",
       "3                               We love our Monkeys!      1354752000   \n",
       "4  This is my granddaughters favorite app on my K...      1391212800   \n",
       "5                                            so cute      1354665600   \n",
       "6                                          Terrific!      1381708800   \n",
       "7                                Five Little Monkeys      1389484800   \n",
       "8                                  love but to quite      1386720000   \n",
       "9                                               Cute      1366934400   \n",
       "\n",
       "    reviewTime  \n",
       "0   11 2, 2013  \n",
       "1   12 5, 2011  \n",
       "2  05 21, 2012  \n",
       "3   12 6, 2012  \n",
       "4   02 1, 2014  \n",
       "5   12 5, 2012  \n",
       "6  10 14, 2013  \n",
       "7  01 12, 2014  \n",
       "8  12 11, 2013  \n",
       "9  04 26, 2013  "
      ]
     },
     "execution_count": 4,
     "metadata": {},
     "output_type": "execute_result"
    }
   ],
   "source": [
    "data.head(10)"
   ]
  },
  {
   "cell_type": "code",
   "execution_count": 5,
   "metadata": {},
   "outputs": [
    {
     "name": "stdout",
     "output_type": "stream",
     "text": [
      "reviewText             0\n",
      "overall                0\n",
      "helpful_reviews        0\n",
      "not_helpful_reviews    0\n",
      "dtype: int64\n"
     ]
    }
   ],
   "source": [
    "#select the columns\n",
    "df = data.iloc[:, [4,5,3]]\n",
    "\n",
    "#split numerator and denominator\n",
    "df['helpful_reviews'] = df['helpful'].apply(lambda x: x[0])\n",
    "df['not_helpful_reviews'] = df['helpful'].apply(lambda x: x[1])\n",
    "\n",
    "# delete un-needed 'helpful catagory\n",
    "del df['helpful']\n",
    "\n",
    "#Check if we have any null values\n",
    "print (df.isnull().sum())"
   ]
  },
  {
   "cell_type": "code",
   "execution_count": 6,
   "metadata": {},
   "outputs": [
    {
     "data": {
      "text/html": [
       "<div>\n",
       "<style scoped>\n",
       "    .dataframe tbody tr th:only-of-type {\n",
       "        vertical-align: middle;\n",
       "    }\n",
       "\n",
       "    .dataframe tbody tr th {\n",
       "        vertical-align: top;\n",
       "    }\n",
       "\n",
       "    .dataframe thead th {\n",
       "        text-align: right;\n",
       "    }\n",
       "</style>\n",
       "<table border=\"1\" class=\"dataframe\">\n",
       "  <thead>\n",
       "    <tr style=\"text-align: right;\">\n",
       "      <th></th>\n",
       "      <th>overall</th>\n",
       "      <th>helpful_reviews</th>\n",
       "      <th>not_helpful_reviews</th>\n",
       "    </tr>\n",
       "  </thead>\n",
       "  <tbody>\n",
       "    <tr>\n",
       "      <th>count</th>\n",
       "      <td>752937.000000</td>\n",
       "      <td>752937.000000</td>\n",
       "      <td>752937.000000</td>\n",
       "    </tr>\n",
       "    <tr>\n",
       "      <th>mean</th>\n",
       "      <td>3.968931</td>\n",
       "      <td>3.435937</td>\n",
       "      <td>4.473125</td>\n",
       "    </tr>\n",
       "    <tr>\n",
       "      <th>std</th>\n",
       "      <td>1.342484</td>\n",
       "      <td>37.328951</td>\n",
       "      <td>43.688824</td>\n",
       "    </tr>\n",
       "    <tr>\n",
       "      <th>min</th>\n",
       "      <td>1.000000</td>\n",
       "      <td>0.000000</td>\n",
       "      <td>0.000000</td>\n",
       "    </tr>\n",
       "    <tr>\n",
       "      <th>25%</th>\n",
       "      <td>3.000000</td>\n",
       "      <td>0.000000</td>\n",
       "      <td>0.000000</td>\n",
       "    </tr>\n",
       "    <tr>\n",
       "      <th>50%</th>\n",
       "      <td>5.000000</td>\n",
       "      <td>0.000000</td>\n",
       "      <td>0.000000</td>\n",
       "    </tr>\n",
       "    <tr>\n",
       "      <th>75%</th>\n",
       "      <td>5.000000</td>\n",
       "      <td>1.000000</td>\n",
       "      <td>2.000000</td>\n",
       "    </tr>\n",
       "    <tr>\n",
       "      <th>max</th>\n",
       "      <td>5.000000</td>\n",
       "      <td>8116.000000</td>\n",
       "      <td>9258.000000</td>\n",
       "    </tr>\n",
       "  </tbody>\n",
       "</table>\n",
       "</div>"
      ],
      "text/plain": [
       "             overall  helpful_reviews  not_helpful_reviews\n",
       "count  752937.000000    752937.000000        752937.000000\n",
       "mean        3.968931         3.435937             4.473125\n",
       "std         1.342484        37.328951            43.688824\n",
       "min         1.000000         0.000000             0.000000\n",
       "25%         3.000000         0.000000             0.000000\n",
       "50%         5.000000         0.000000             0.000000\n",
       "75%         5.000000         1.000000             2.000000\n",
       "max         5.000000      8116.000000          9258.000000"
      ]
     },
     "execution_count": 6,
     "metadata": {},
     "output_type": "execute_result"
    }
   ],
   "source": [
    "df.describe()"
   ]
  },
  {
   "cell_type": "markdown",
   "metadata": {},
   "source": [
    "From the above output we observed that there are some outliers and weird numbers. Also, both the helpful_reviews and the not_helpful_reviews have a maximum variation from the data mean of over 1000 standard deviations. So, we will look at some outliers and see if they are vaild data."
   ]
  },
  {
   "cell_type": "code",
   "execution_count": 7,
   "metadata": {},
   "outputs": [
    {
     "name": "stdout",
     "output_type": "stream",
     "text": [
      "510127\n",
      "510127\n"
     ]
    }
   ],
   "source": [
    "print (df['helpful_reviews'].idxmax(axis=0, skipna=True))\n",
    "print (df['not_helpful_reviews'].idxmax(axis=0, skipna=True))"
   ]
  },
  {
   "cell_type": "code",
   "execution_count": 8,
   "metadata": {},
   "outputs": [
    {
     "data": {
      "text/html": [
       "<div>\n",
       "<style scoped>\n",
       "    .dataframe tbody tr th:only-of-type {\n",
       "        vertical-align: middle;\n",
       "    }\n",
       "\n",
       "    .dataframe tbody tr th {\n",
       "        vertical-align: top;\n",
       "    }\n",
       "\n",
       "    .dataframe thead th {\n",
       "        text-align: right;\n",
       "    }\n",
       "</style>\n",
       "<table border=\"1\" class=\"dataframe\">\n",
       "  <thead>\n",
       "    <tr style=\"text-align: right;\">\n",
       "      <th></th>\n",
       "      <th>reviewText</th>\n",
       "      <th>overall</th>\n",
       "      <th>helpful_reviews</th>\n",
       "      <th>not_helpful_reviews</th>\n",
       "    </tr>\n",
       "  </thead>\n",
       "  <tbody>\n",
       "    <tr>\n",
       "      <th>510127</th>\n",
       "      <td>This game is the perfect sequel to Temple Run....</td>\n",
       "      <td>5.0</td>\n",
       "      <td>8116</td>\n",
       "      <td>9258</td>\n",
       "    </tr>\n",
       "    <tr>\n",
       "      <th>510128</th>\n",
       "      <td>this was working fine now it won't even open.....</td>\n",
       "      <td>1.0</td>\n",
       "      <td>0</td>\n",
       "      <td>2</td>\n",
       "    </tr>\n",
       "  </tbody>\n",
       "</table>\n",
       "</div>"
      ],
      "text/plain": [
       "                                               reviewText  overall  \\\n",
       "510127  This game is the perfect sequel to Temple Run....      5.0   \n",
       "510128  this was working fine now it won't even open.....      1.0   \n",
       "\n",
       "        helpful_reviews  not_helpful_reviews  \n",
       "510127             8116                 9258  \n",
       "510128                0                    2  "
      ]
     },
     "execution_count": 8,
     "metadata": {},
     "output_type": "execute_result"
    }
   ],
   "source": [
    "df.iloc[[510127,510128]]"
   ]
  },
  {
   "cell_type": "markdown",
   "metadata": {},
   "source": [
    "This reviewText appears to be in good shape. Because we'll be transforming these names later, the amount in the helpful reviews and not helpful won't matter."
   ]
  },
  {
   "cell_type": "markdown",
   "metadata": {},
   "source": [
    "## Data Preprocessing"
   ]
  },
  {
   "cell_type": "markdown",
   "metadata": {},
   "source": [
    "Data with fewer than ten ratings will be removed from the dataset first. There are a large number of reviews, and many of them may not have been read. As many of these reviews may be good, but do not get read and rated, our algorithm may give it some random value and make model biased."
   ]
  },
  {
   "cell_type": "code",
   "execution_count": 9,
   "metadata": {},
   "outputs": [
    {
     "data": {
      "text/plain": [
       "(47932, 4)"
      ]
     },
     "execution_count": 9,
     "metadata": {},
     "output_type": "execute_result"
    }
   ],
   "source": [
    "#include reviews that have more than 10 helpfulness data point only\n",
    "df1 = df[(df.not_helpful_reviews > 10)].copy()\n",
    "df1.shape"
   ]
  },
  {
   "cell_type": "markdown",
   "metadata": {},
   "source": [
    "Here we are checking if a review is helpful or not. The threshold of 'helpful_reviews' divided by 'all the reviews' was chosen as the technique. We are storing this value in helpful where if threshhold is greater than 0.5 that means reviewis helpful therefor helpful value is 0 and if threshold less than 0.5 its 0 ie. not helpful."
   ]
  },
  {
   "cell_type": "code",
   "execution_count": 10,
   "metadata": {},
   "outputs": [
    {
     "data": {
      "text/html": [
       "<div>\n",
       "<style scoped>\n",
       "    .dataframe tbody tr th:only-of-type {\n",
       "        vertical-align: middle;\n",
       "    }\n",
       "\n",
       "    .dataframe tbody tr th {\n",
       "        vertical-align: top;\n",
       "    }\n",
       "\n",
       "    .dataframe thead th {\n",
       "        text-align: right;\n",
       "    }\n",
       "</style>\n",
       "<table border=\"1\" class=\"dataframe\">\n",
       "  <thead>\n",
       "    <tr style=\"text-align: right;\">\n",
       "      <th></th>\n",
       "      <th>reviewText</th>\n",
       "      <th>overall</th>\n",
       "      <th>helpful_reviews</th>\n",
       "      <th>not_helpful_reviews</th>\n",
       "      <th>Helpful</th>\n",
       "    </tr>\n",
       "  </thead>\n",
       "  <tbody>\n",
       "    <tr>\n",
       "      <th>33</th>\n",
       "      <td>I did the 7-day trial and was impressed, but a...</td>\n",
       "      <td>3.0</td>\n",
       "      <td>15</td>\n",
       "      <td>20</td>\n",
       "      <td>1</td>\n",
       "    </tr>\n",
       "    <tr>\n",
       "      <th>94</th>\n",
       "      <td>This app is great!  It has a daily verse, a da...</td>\n",
       "      <td>5.0</td>\n",
       "      <td>96</td>\n",
       "      <td>107</td>\n",
       "      <td>1</td>\n",
       "    </tr>\n",
       "    <tr>\n",
       "      <th>284</th>\n",
       "      <td>This app simply latches on to Google maps and ...</td>\n",
       "      <td>2.0</td>\n",
       "      <td>11</td>\n",
       "      <td>23</td>\n",
       "      <td>0</td>\n",
       "    </tr>\n",
       "  </tbody>\n",
       "</table>\n",
       "</div>"
      ],
      "text/plain": [
       "                                            reviewText  overall  \\\n",
       "33   I did the 7-day trial and was impressed, but a...      3.0   \n",
       "94   This app is great!  It has a daily verse, a da...      5.0   \n",
       "284  This app simply latches on to Google maps and ...      2.0   \n",
       "\n",
       "     helpful_reviews  not_helpful_reviews  Helpful  \n",
       "33                15                   20        1  \n",
       "94                96                  107        1  \n",
       "284               11                   23        0  "
      ]
     },
     "execution_count": 10,
     "metadata": {},
     "output_type": "execute_result"
    }
   ],
   "source": [
    "#transform Helpfulness into a binary variable with 0.50 ratio\n",
    "threshold = 0.5\n",
    "df1.loc[:, 'Helpful'] = np.where(df1.loc[:, 'helpful_reviews'] \\\n",
    "                                 / df1.loc[:, 'not_helpful_reviews'] > threshold, 1, 0)\n",
    "df1.head(3)"
   ]
  },
  {
   "cell_type": "markdown",
   "metadata": {},
   "source": [
    "We will conduct some data visualisation and counting to get a sense of the correlation and distribution."
   ]
  },
  {
   "cell_type": "code",
   "execution_count": 11,
   "metadata": {},
   "outputs": [
    {
     "name": "stdout",
     "output_type": "stream",
     "text": [
      "Count:\n"
     ]
    },
    {
     "data": {
      "text/html": [
       "<div>\n",
       "<style scoped>\n",
       "    .dataframe tbody tr th:only-of-type {\n",
       "        vertical-align: middle;\n",
       "    }\n",
       "\n",
       "    .dataframe tbody tr th {\n",
       "        vertical-align: top;\n",
       "    }\n",
       "\n",
       "    .dataframe thead th {\n",
       "        text-align: right;\n",
       "    }\n",
       "</style>\n",
       "<table border=\"1\" class=\"dataframe\">\n",
       "  <thead>\n",
       "    <tr style=\"text-align: right;\">\n",
       "      <th></th>\n",
       "      <th>reviewText</th>\n",
       "      <th>overall</th>\n",
       "      <th>helpful_reviews</th>\n",
       "      <th>not_helpful_reviews</th>\n",
       "    </tr>\n",
       "    <tr>\n",
       "      <th>Helpful</th>\n",
       "      <th></th>\n",
       "      <th></th>\n",
       "      <th></th>\n",
       "      <th></th>\n",
       "    </tr>\n",
       "  </thead>\n",
       "  <tbody>\n",
       "    <tr>\n",
       "      <th>0</th>\n",
       "      <td>6210</td>\n",
       "      <td>6210</td>\n",
       "      <td>6210</td>\n",
       "      <td>6210</td>\n",
       "    </tr>\n",
       "    <tr>\n",
       "      <th>1</th>\n",
       "      <td>41722</td>\n",
       "      <td>41722</td>\n",
       "      <td>41722</td>\n",
       "      <td>41722</td>\n",
       "    </tr>\n",
       "  </tbody>\n",
       "</table>\n",
       "</div>"
      ],
      "text/plain": [
       "         reviewText  overall  helpful_reviews  not_helpful_reviews\n",
       "Helpful                                                           \n",
       "0              6210     6210             6210                 6210\n",
       "1             41722    41722            41722                41722"
      ]
     },
     "metadata": {},
     "output_type": "display_data"
    }
   ],
   "source": [
    "#Check the balance\n",
    "print ('Count:')\n",
    "display(df1.groupby('Helpful').count())"
   ]
  },
  {
   "cell_type": "markdown",
   "metadata": {},
   "source": [
    "Our dataset is imbalanced as effective reviews are almost 7 times the number of effective reviews. Therefore we'll use stratified shuffle. "
   ]
  },
  {
   "cell_type": "code",
   "execution_count": 12,
   "metadata": {},
   "outputs": [
    {
     "data": {
      "image/png": "[encoded data removed]",
      "text/plain": [
       "<Figure size 1008x576 with 2 Axes>"
      ]
     },
     "metadata": {
      "needs_background": "light"
     },
     "output_type": "display_data"
    }
   ],
   "source": [
    "#Visualize correlation of the data\n",
    "FIG_SIZE = (14,8)\n",
    "\n",
    "correlations = df1.corr()\n",
    "plt.figure(figsize = FIG_SIZE)\n",
    "plt.title(\"Heatmap of correlations in each catagory\")\n",
    "_ = sns.heatmap(correlations, vmin=0, vmax=1, annot=True)"
   ]
  },
  {
   "cell_type": "markdown",
   "metadata": {},
   "source": [
    "Theres a slight corellation between overall and helpful rating"
   ]
  },
  {
   "cell_type": "markdown",
   "metadata": {},
   "source": [
    "## Text Feature Generation using NLP"
   ]
  },
  {
   "cell_type": "markdown",
   "metadata": {},
   "source": [
    "We converted the text to lower case so we can use natural language processing to produce features. We also removed all the punctuations. All these steps are done to remove the noise."
   ]
  },
  {
   "cell_type": "code",
   "execution_count": 13,
   "metadata": {},
   "outputs": [
    {
     "data": {
      "text/plain": [
       "33     i did the 7day trial and was impressed but am ...\n",
       "94     this app is great  it has a daily verse a dail...\n",
       "284    this app simply latches on to google maps and ...\n",
       "288    unable to move to sd card uninstalled cannot r...\n",
       "Name: reviewText, dtype: object"
      ]
     },
     "execution_count": 13,
     "metadata": {},
     "output_type": "execute_result"
    }
   ],
   "source": [
    "# convert text to lowercase\n",
    "df1.loc[:, 'reviewText'] = df1['reviewText'].str.lower()\n",
    "df.loc[:, 'reviewText'] = df['reviewText'].str.lower()\n",
    "\n",
    "\n",
    "\"\"\"def remove_punctuation(text):\n",
    "    return text.translate(None, string.punctuation.translate(None,''))\"\"\"\n",
    "\n",
    "def remove_punctuation(text):\n",
    "    return text.translate(str.maketrans('', '', string.punctuation))\n",
    "\n",
    "df1['reviewText']=df1['reviewText'].apply(lambda x: remove_punctuation(x))\n",
    "df1['reviewText'].head(4)\n"
   ]
  },
  {
   "cell_type": "markdown",
   "metadata": {},
   "source": [
    "For each of the stemmed and tolkenized words and ngrams, we will calculate TF-IDF scores."
   ]
  },
  {
   "cell_type": "code",
   "execution_count": 14,
   "metadata": {},
   "outputs": [
    {
     "name": "stdout",
     "output_type": "stream",
     "text": [
      "else\n"
     ]
    },
    {
     "data": {
      "text/plain": [
       "<47932x446 sparse matrix of type '<class 'numpy.float64'>'\n",
       "\twith 727300 stored elements in Compressed Sparse Row format>"
      ]
     },
     "execution_count": 14,
     "metadata": {},
     "output_type": "execute_result"
    }
   ],
   "source": [
    "#tokenize text with Tfidf\n",
    "from sklearn.feature_extraction.text import TfidfVectorizer\n",
    "from nltk.stem.snowball import SnowballStemmer\n",
    "\n",
    "#create a stemmer\n",
    "stemmer = SnowballStemmer(\"english\")\n",
    "\n",
    "\n",
    "#define our own tokenizing function that we will pass into the TFIDFVectorizer. We will also stem the words here.\n",
    "def tokens(x):\n",
    "    x = x.split()\n",
    "    stems = []\n",
    "    [stems.append(stemmer.stem(word)) for word in x]\n",
    "    return stems\n",
    "\n",
    "#loads pickle if exists, extracts and pickles if it doesn't\n",
    "if os.path.exists('features.pickle'):\n",
    "    print ('Pickled file already present, loading...')\n",
    "    features = pickle.load( open( \"features.pickle\", \"rb\" ) )\n",
    "    print ('Pickle file loaded.')\n",
    "else:\n",
    "    print(\"else\")\n",
    "    #define the vectorizer\n",
    "    vectorizer = TfidfVectorizer(tokenizer = tokens, stop_words = 'english', ngram_range=(1, 1), min_df = 0.01)\n",
    "    #fit the vectorizers to the data.\n",
    "    features = vectorizer.fit_transform(df1['reviewText'])\n",
    "features"
   ]
  },
  {
   "cell_type": "markdown",
   "metadata": {},
   "source": [
    "## Modeling"
   ]
  },
  {
   "cell_type": "markdown",
   "metadata": {},
   "source": [
    "We'll look at five models from sklearn library\n",
    "  \n",
    "Train and test split is done in 80:20"
   ]
  },
  {
   "cell_type": "code",
   "execution_count": 15,
   "metadata": {},
   "outputs": [],
   "source": [
    "from sklearn.model_selection import train_test_split\n",
    "X_train, X_test, y_train, y_test = train_test_split(features,df1['Helpful'], test_size=0.2, random_state=42)"
   ]
  },
  {
   "cell_type": "markdown",
   "metadata": {},
   "source": [
    "The code below sets up a few functions that will be used to test the models later."
   ]
  },
  {
   "cell_type": "code",
   "execution_count": 16,
   "metadata": {},
   "outputs": [],
   "source": [
    "from sklearn.metrics import roc_auc_score, roc_curve\n",
    "\n",
    "def train_classifier(clf, X_train, y_train):\n",
    "    ''' Fits a classifier to the training data. '''\n",
    "    \n",
    "    # Start the clock, train the classifier, then stop the clock\n",
    "    start = time()\n",
    "    clf.fit(X_train, y_train)\n",
    "    end = time()\n",
    "    \n",
    "    # Print the results\n",
    "    print (\"Trained model in {:.4f} seconds\".format(end - start))\n",
    "\n",
    "    \n",
    "def predict_labels(clf, features, target):\n",
    "    ''' Makes predictions using a fit classifier based on roc_auc score. '''\n",
    "    \n",
    "    # Start the clock, make predictions, then stop the clock\n",
    "    start = time()\n",
    "    probas = clf.predict_proba(features)\n",
    "    end = time()\n",
    "    \n",
    "    # Print and return results\n",
    "    print (\"Made predictions in {:.4f} seconds.\".format(end - start))\n",
    "    return roc_auc_score(target.values, probas[:,1].T)\n",
    "\n",
    "def train_predict(clf, X_train, y_train, X_test, y_test):\n",
    "    ''' Train and predict using a classifer based on roc_auc score. '''\n",
    "    \n",
    "    # Indicate the classifier and the training set size\n",
    "    print (\"Training a {} using a training set size of {}. . .\".format(clf.__class__.__name__, X_train.shape[0]))\n",
    "    \n",
    "    # Train the classifier\n",
    "    train_classifier(clf, X_train, y_train)\n",
    "    \n",
    "    # Print the results of prediction for both training and testing\n",
    "    print (\"ROC_AUC score for training set: {:.4f}.\".format(predict_labels(clf, X_train, y_train)))\n",
    "    print (\"ROC_AUC score for test set: {:.4f}.\\n\".format(predict_labels(clf, X_test, y_test)))\n",
    "    \n",
    "def clf_test_roc_score(clf, X_train, y_train, X_test, y_test):\n",
    "    clf.fit(X_train, y_train)\n",
    "    probas = probas =clf.predict_proba(X_test)\n",
    "    return roc_auc_score(y_test, probas[:,1].T)\n"
   ]
  },
  {
   "cell_type": "markdown",
   "metadata": {},
   "source": [
    "Now testing our classifiers. We will put all the results in a table , and will anlyse the top three. We'll train and evaluate the models on three different training sizes to see which one is the best size."
   ]
  },
  {
   "cell_type": "code",
   "execution_count": 17,
   "metadata": {},
   "outputs": [
    {
     "name": "stdout",
     "output_type": "stream",
     "text": [
      "Training a GaussianNB using a training set size of 10000. . .\n",
      "Trained model in 0.0919 seconds\n",
      "Made predictions in 0.1319 seconds.\n",
      "ROC_AUC score for training set: 0.7553.\n",
      "Made predictions in 0.1249 seconds.\n",
      "ROC_AUC score for test set: 0.6498.\n",
      "\n",
      "Training a GaussianNB using a training set size of 20000. . .\n",
      "Trained model in 0.1809 seconds\n",
      "Made predictions in 0.2479 seconds.\n",
      "ROC_AUC score for training set: 0.7310.\n",
      "Made predictions in 0.1149 seconds.\n",
      "ROC_AUC score for test set: 0.6742.\n",
      "\n",
      "Training a GaussianNB using a training set size of 38345. . .\n",
      "Trained model in 0.4148 seconds\n",
      "Made predictions in 0.4737 seconds.\n",
      "ROC_AUC score for training set: 0.7159.\n",
      "Made predictions in 0.1119 seconds.\n",
      "ROC_AUC score for test set: 0.6766.\n",
      "\n",
      "Training a AdaBoostClassifier using a training set size of 10000. . .\n",
      "Trained model in 6.9326 seconds\n",
      "Made predictions in 0.9125 seconds.\n",
      "ROC_AUC score for training set: 0.7604.\n",
      "Made predictions in 0.9105 seconds.\n",
      "ROC_AUC score for test set: 0.6852.\n",
      "\n",
      "Training a AdaBoostClassifier using a training set size of 20000. . .\n",
      "Trained model in 13.2254 seconds\n",
      "Made predictions in 1.8100 seconds.\n",
      "ROC_AUC score for training set: 0.7481.\n",
      "Made predictions in 0.8915 seconds.\n",
      "ROC_AUC score for test set: 0.7021.\n",
      "\n",
      "Training a AdaBoostClassifier using a training set size of 38345. . .\n",
      "Trained model in 26.4758 seconds\n",
      "Made predictions in 3.4550 seconds.\n",
      "ROC_AUC score for training set: 0.7355.\n",
      "Made predictions in 0.9025 seconds.\n",
      "ROC_AUC score for test set: 0.7090.\n",
      "\n",
      "Training a RandomForestClassifier using a training set size of 10000. . .\n",
      "Trained model in 14.5457 seconds\n",
      "Made predictions in 0.5817 seconds.\n",
      "ROC_AUC score for training set: 1.0000.\n",
      "Made predictions in 0.5667 seconds.\n",
      "ROC_AUC score for test set: 0.6859.\n",
      "\n",
      "Training a RandomForestClassifier using a training set size of 20000. . .\n",
      "Trained model in 34.5232 seconds\n",
      "Made predictions in 1.2383 seconds.\n",
      "ROC_AUC score for training set: 1.0000.\n",
      "Made predictions in 0.6356 seconds.\n",
      "ROC_AUC score for test set: 0.6986.\n",
      "\n",
      "Training a RandomForestClassifier using a training set size of 38345. . .\n",
      "Trained model in 77.4895 seconds\n",
      "Made predictions in 2.4976 seconds.\n",
      "ROC_AUC score for training set: 1.0000.\n",
      "Made predictions in 0.6656 seconds.\n",
      "ROC_AUC score for test set: 0.7130.\n",
      "\n",
      "Training a LogisticRegression using a training set size of 10000. . .\n",
      "Trained model in 0.4639 seconds\n",
      "Made predictions in 0.0090 seconds.\n",
      "ROC_AUC score for training set: 0.8035.\n",
      "Made predictions in 0.0100 seconds.\n",
      "ROC_AUC score for test set: 0.7329.\n",
      "\n",
      "Training a LogisticRegression using a training set size of 20000. . .\n",
      "Trained model in 1.0784 seconds\n",
      "Made predictions in 0.0190 seconds.\n",
      "ROC_AUC score for training set: 0.7862.\n",
      "Made predictions in 0.0100 seconds.\n",
      "ROC_AUC score for test set: 0.7430.\n",
      "\n",
      "Training a LogisticRegression using a training set size of 38345. . .\n",
      "Trained model in 2.2217 seconds\n",
      "Made predictions in 0.0370 seconds.\n",
      "ROC_AUC score for training set: 0.7720.\n",
      "Made predictions in 0.0100 seconds.\n",
      "ROC_AUC score for test set: 0.7447.\n",
      "\n",
      "Training a DecisionTreeClassifier using a training set size of 10000. . .\n",
      "Trained model in 4.4994 seconds\n",
      "Made predictions in 0.0220 seconds.\n",
      "ROC_AUC score for training set: 1.0000.\n",
      "Made predictions in 0.0200 seconds.\n",
      "ROC_AUC score for test set: 0.5379.\n",
      "\n",
      "Training a DecisionTreeClassifier using a training set size of 20000. . .\n",
      "Trained model in 12.5230 seconds\n",
      "Made predictions in 0.0450 seconds.\n",
      "ROC_AUC score for training set: 1.0000.\n",
      "Made predictions in 0.0210 seconds.\n",
      "ROC_AUC score for test set: 0.5349.\n",
      "\n",
      "Training a DecisionTreeClassifier using a training set size of 38345. . .\n",
      "Trained model in 33.2459 seconds\n",
      "Made predictions in 0.0969 seconds.\n",
      "ROC_AUC score for training set: 1.0000.\n",
      "Made predictions in 0.0250 seconds.\n",
      "ROC_AUC score for test set: 0.5344.\n",
      "\n"
     ]
    }
   ],
   "source": [
    "# Import the supervised learning models from sklearn\n",
    "from sklearn.naive_bayes import GaussianNB\n",
    "from sklearn.ensemble import AdaBoostClassifier\n",
    "from sklearn.ensemble import RandomForestClassifier\n",
    "from sklearn.linear_model import LogisticRegression\n",
    "from sklearn.tree import DecisionTreeClassifier\n",
    "\n",
    "\n",
    "# Initialize the models using a random state were applicable.\n",
    "clf_list = [GaussianNB(), \n",
    "            AdaBoostClassifier(random_state = 42), \n",
    "            RandomForestClassifier(random_state = 42), \n",
    "            LogisticRegression(random_state = 42),\n",
    "            DecisionTreeClassifier(random_state = 42)]\n",
    "x_tr = X_train.toarray()\n",
    "x_te = X_test.toarray()\n",
    "\n",
    "\n",
    "# Set up the training set sizes for 100, 200 and 300 respectively.\n",
    "train_feature_list = [x_tr[0:10000],x_tr[0:20000],x_tr]\n",
    "train_target_list = [y_train[0:10000], y_train[0:20000], y_train]\n",
    "\n",
    "\n",
    "# Execute the 'train_predict' function for each of the classifiers and each training set size\n",
    "for clf in clf_list:\n",
    "    for a, b in zip(train_feature_list, train_target_list):\n",
    "        train_predict(clf, a, b, x_te, y_test)"
   ]
  },
  {
   "cell_type": "markdown",
   "metadata": {},
   "source": [
    "it appears that the Logistic Regression classifier performed the best and the speed is also decent."
   ]
  },
  {
   "cell_type": "code",
   "execution_count": 18,
   "metadata": {},
   "outputs": [
    {
     "data": {
      "image/png": "[encoded data removed]",
      "text/plain": [
       "<Figure size 432x288 with 1 Axes>"
      ]
     },
     "metadata": {
      "needs_background": "light"
     },
     "output_type": "display_data"
    },
    {
     "data": {
      "text/plain": [
       "<Figure size 432x288 with 0 Axes>"
      ]
     },
     "metadata": {},
     "output_type": "display_data"
    }
   ],
   "source": [
    "### Visualize all of the classifiers                                                               \n",
    "\n",
    "for clf in clf_list:\n",
    "    x_graph = []\n",
    "    y_graph = []\n",
    "    for a, b in zip(train_feature_list, train_target_list):\n",
    "        y_graph.append(clf_test_roc_score(clf, a, b, x_te, y_test))\n",
    "        x_graph.append(len(a))\n",
    "    plt.scatter(x_graph,y_graph)\n",
    "    plt.plot(x_graph,y_graph, label = clf.__class__.__name__)\n",
    "\n",
    "plt.title('Comparison of Different Classifiers')\n",
    "plt.xlabel('Training Size')\n",
    "plt.ylabel('ROC_AUC score on test set')\n",
    "plt.legend(bbox_to_anchor=(1.6, 1.05))\n",
    "plt.figure()             \n",
    "plt.show()\n"
   ]
  },
  {
   "cell_type": "markdown",
   "metadata": {},
   "source": [
    "In terms of accuracy, Logistic Regression is the best model for all test sizes. It had a sample size of 38,000 and a final score of 0.7448 for the area under the ROC curve. Moreover, for Random Forest and Decision tree, there seems case of overfitting"
   ]
  },
  {
   "cell_type": "markdown",
   "metadata": {},
   "source": [
    "## Refinement"
   ]
  },
  {
   "cell_type": "markdown",
   "metadata": {},
   "source": [
    "We're going to try adding a new feature 'overall' to our feature set to see if we can improve our outcomes. "
   ]
  },
  {
   "cell_type": "code",
   "execution_count": 19,
   "metadata": {},
   "outputs": [
    {
     "data": {
      "text/plain": [
       "<47932x447 sparse matrix of type '<class 'numpy.float64'>'\n",
       "\twith 775232 stored elements in Compressed Sparse Row format>"
      ]
     },
     "execution_count": 19,
     "metadata": {},
     "output_type": "execute_result"
    }
   ],
   "source": [
    "#add Score column to features\n",
    "import scipy as scipy\n",
    "\n",
    "# features = pickle.load( open( pickle_file_name, \"rb\" ) )\n",
    "overall = np.array(list(df1.overall))\n",
    "overall = overall.reshape(features.shape[0], 1)\n",
    "\n",
    "features = scipy.sparse.hstack((features,scipy.sparse.csr_matrix(overall)))\n",
    "\n",
    "features = scipy.sparse.csr_matrix(features)\n",
    "features"
   ]
  },
  {
   "cell_type": "code",
   "execution_count": 20,
   "metadata": {},
   "outputs": [],
   "source": [
    "X_train2, X_test2, y_train, y_test = train_test_split(features, df1['Helpful'], test_size=0.2, random_state=42)\n"
   ]
  },
  {
   "cell_type": "markdown",
   "metadata": {},
   "source": [
    "## Grid Search"
   ]
  },
  {
   "cell_type": "markdown",
   "metadata": {},
   "source": [
    "TWe used grid search to generate a grid of all possible parameters combinations. It is used to find the best parameters for training the model."
   ]
  },
  {
   "cell_type": "code",
   "execution_count": 21,
   "metadata": {},
   "outputs": [],
   "source": [
    "import sklearn"
   ]
  },
  {
   "cell_type": "code",
   "execution_count": 22,
   "metadata": {},
   "outputs": [
    {
     "name": "stdout",
     "output_type": "stream",
     "text": [
      "Fitting grid search...\n",
      "Grid search fitted.\n"
     ]
    }
   ],
   "source": [
    "from sklearn import model_selection\n",
    "from sklearn.model_selection import GridSearchCV\n",
    "from sklearn.model_selection import train_test_split\n",
    "from sklearn.model_selection import StratifiedKFold, KFold\n",
    "#make the grid search object\n",
    "\n",
    "gs2 = sklearn.model_selection.GridSearchCV(\n",
    "    estimator = LogisticRegression(),\n",
    "    param_grid = {'C': [10**i for i in range(-5,5)], 'class_weight': [None, 'balanced']},\n",
    "    scoring = 'roc_auc'\n",
    ")\n",
    "\n",
    "#fit the grid search object to our new dataset\n",
    "print ('Fitting grid search...')\n",
    "gs2.fit(X_train2, y_train)\n",
    "print (\"Grid search fitted.\")"
   ]
  },
  {
   "cell_type": "code",
   "execution_count": 23,
   "metadata": {},
   "outputs": [
    {
     "name": "stdout",
     "output_type": "stream",
     "text": [
      "LogisticRegression(C=1)\n"
     ]
    },
    {
     "data": {
      "text/plain": [
       "{'mean_fit_time': array([0.08014989, 0.06835575, 0.08055367, 0.07455549, 0.08115196,\n",
       "        0.11853514, 0.13532667, 0.19109306, 0.35639367, 0.39338207,\n",
       "        0.53928881, 0.53589191, 0.53189106, 0.5444943 , 0.5442904 ,\n",
       "        0.52550588, 0.52949362, 0.52528548, 0.52130799, 0.52350421]),\n",
       " 'std_fit_time': array([0.0085653 , 0.00135253, 0.0033759 , 0.00185007, 0.00890102,\n",
       "        0.00102883, 0.01217976, 0.00248312, 0.05613124, 0.03767446,\n",
       "        0.00900128, 0.00843863, 0.00782538, 0.01194823, 0.01110111,\n",
       "        0.00809   , 0.01235675, 0.01101508, 0.00722246, 0.01031483]),\n",
       " 'mean_score_time': array([0.0050015 , 0.00439749, 0.00459709, 0.00419931, 0.00419831,\n",
       "        0.00399394, 0.00419259, 0.00399442, 0.00419536, 0.0039937 ,\n",
       "        0.00419426, 0.00439782, 0.00460114, 0.0043941 , 0.00439434,\n",
       "        0.00398946, 0.00419917, 0.00480547, 0.00399346, 0.0043879 ]),\n",
       " 'std_score_time': array([6.37969831e-04, 4.96188499e-04, 4.94718048e-04, 7.52241930e-04,\n",
       "        4.08652171e-04, 1.42576702e-05, 3.99112929e-04, 6.31580805e-04,\n",
       "        4.02385460e-04, 1.48037780e-05, 3.99828910e-04, 4.94551433e-04,\n",
       "        4.95696677e-04, 4.89553093e-04, 4.82499299e-04, 8.02022523e-06,\n",
       "        3.97595978e-04, 1.16156415e-03, 1.83070696e-06, 4.92528062e-04]),\n",
       " 'param_C': masked_array(data=[1e-05, 1e-05, 0.0001, 0.0001, 0.001, 0.001, 0.01, 0.01,\n",
       "                    0.1, 0.1, 1, 1, 10, 10, 100, 100, 1000, 1000, 10000,\n",
       "                    10000],\n",
       "              mask=[False, False, False, False, False, False, False, False,\n",
       "                    False, False, False, False, False, False, False, False,\n",
       "                    False, False, False, False],\n",
       "        fill_value='?',\n",
       "             dtype=object),\n",
       " 'param_class_weight': masked_array(data=[None, 'balanced', None, 'balanced', None, 'balanced',\n",
       "                    None, 'balanced', None, 'balanced', None, 'balanced',\n",
       "                    None, 'balanced', None, 'balanced', None, 'balanced',\n",
       "                    None, 'balanced'],\n",
       "              mask=[False, False, False, False, False, False, False, False,\n",
       "                    False, False, False, False, False, False, False, False,\n",
       "                    False, False, False, False],\n",
       "        fill_value='?',\n",
       "             dtype=object),\n",
       " 'params': [{'C': 1e-05, 'class_weight': None},\n",
       "  {'C': 1e-05, 'class_weight': 'balanced'},\n",
       "  {'C': 0.0001, 'class_weight': None},\n",
       "  {'C': 0.0001, 'class_weight': 'balanced'},\n",
       "  {'C': 0.001, 'class_weight': None},\n",
       "  {'C': 0.001, 'class_weight': 'balanced'},\n",
       "  {'C': 0.01, 'class_weight': None},\n",
       "  {'C': 0.01, 'class_weight': 'balanced'},\n",
       "  {'C': 0.1, 'class_weight': None},\n",
       "  {'C': 0.1, 'class_weight': 'balanced'},\n",
       "  {'C': 1, 'class_weight': None},\n",
       "  {'C': 1, 'class_weight': 'balanced'},\n",
       "  {'C': 10, 'class_weight': None},\n",
       "  {'C': 10, 'class_weight': 'balanced'},\n",
       "  {'C': 100, 'class_weight': None},\n",
       "  {'C': 100, 'class_weight': 'balanced'},\n",
       "  {'C': 1000, 'class_weight': None},\n",
       "  {'C': 1000, 'class_weight': 'balanced'},\n",
       "  {'C': 10000, 'class_weight': None},\n",
       "  {'C': 10000, 'class_weight': 'balanced'}],\n",
       " 'split0_test_score': array([0.74441368, 0.7448995 , 0.7490242 , 0.74990698, 0.75587683,\n",
       "        0.75424639, 0.75836579, 0.76125231, 0.77868986, 0.78539117,\n",
       "        0.78801932, 0.78813698, 0.78710834, 0.78706968, 0.78680312,\n",
       "        0.78676749, 0.78672382, 0.78690001, 0.78673125, 0.78681388]),\n",
       " 'split1_test_score': array([0.75509141, 0.75547987, 0.7585203 , 0.75879975, 0.76219877,\n",
       "        0.76108704, 0.76360844, 0.76615729, 0.78099141, 0.785944  ,\n",
       "        0.78700948, 0.78516388, 0.78454873, 0.78283337, 0.78437512,\n",
       "        0.782696  , 0.78412008, 0.78261609, 0.78399575, 0.78256045]),\n",
       " 'split2_test_score': array([0.74256171, 0.74296019, 0.74700211, 0.74730991, 0.75296726,\n",
       "        0.75070484, 0.75516434, 0.75824813, 0.77600895, 0.78161717,\n",
       "        0.78175819, 0.78022069, 0.77875613, 0.77778238, 0.77806546,\n",
       "        0.77724729, 0.77834537, 0.77700256, 0.77814477, 0.77720149]),\n",
       " 'split3_test_score': array([0.74974246, 0.7502962 , 0.75405867, 0.7549375 , 0.75917821,\n",
       "        0.75802812, 0.76071161, 0.76399721, 0.78020689, 0.78481954,\n",
       "        0.78337514, 0.78115198, 0.77929334, 0.77795508, 0.77828987,\n",
       "        0.77763757, 0.77796645, 0.77761028, 0.77827107, 0.77772385]),\n",
       " 'split4_test_score': array([0.72540399, 0.72583697, 0.72831908, 0.72910838, 0.73087922,\n",
       "        0.73111237, 0.73178168, 0.73644337, 0.75070749, 0.75809595,\n",
       "        0.75916506, 0.7595382 , 0.75788598, 0.75814201, 0.75753178,\n",
       "        0.75777963, 0.757513  , 0.75782538, 0.75754678, 0.75782902]),\n",
       " 'mean_test_score': array([0.74344265, 0.74389455, 0.74738487, 0.7480125 , 0.75222006,\n",
       "        0.75103575, 0.75392637, 0.75721966, 0.77332092, 0.77917357,\n",
       "        0.77986544, 0.77884235, 0.7775185 , 0.7767565 , 0.77701307,\n",
       "        0.7764256 , 0.77693374, 0.77639086, 0.77693792, 0.77642574]),\n",
       " 'std_test_score': array([0.0100249 , 0.01003155, 0.01034288, 0.01025445, 0.01111173,\n",
       "        0.01055728, 0.01141412, 0.01072185, 0.01143391, 0.01064529,\n",
       "        0.01060122, 0.01006217, 0.01031026, 0.00992248, 0.01031798,\n",
       "        0.00996081, 0.0102734 , 0.00995725, 0.01024668, 0.00993653]),\n",
       " 'rank_test_score': array([20, 19, 18, 17, 15, 16, 14, 13, 12,  2,  1,  3,  4,  8,  5, 10,  7,\n",
       "        11,  6,  9])}"
      ]
     },
     "execution_count": 23,
     "metadata": {},
     "output_type": "execute_result"
    }
   ],
   "source": [
    "#print the grid search scores.\n",
    "print (gs2.best_estimator_)\n",
    "gs2.cv_results_"
   ]
  },
  {
   "cell_type": "code",
   "execution_count": 24,
   "metadata": {},
   "outputs": [
    {
     "name": "stdout",
     "output_type": "stream",
     "text": [
      "ROC_AUC Score: 0.7796199178113907\n"
     ]
    },
    {
     "data": {
      "image/png": "[encoded data removed]",
      "text/plain": [
       "<Figure size 1008x576 with 1 Axes>"
      ]
     },
     "metadata": {
      "needs_background": "light"
     },
     "output_type": "display_data"
    }
   ],
   "source": [
    "clf2 = gs2.best_estimator_\n",
    "probas =clf2.predict_proba(X_test2)\n",
    "\n",
    "plt.figure(figsize = FIG_SIZE)\n",
    "plt.plot(roc_curve(y_test, probas[:,1])[0], roc_curve(y_test, probas[:,1])[1])\n",
    "plt.title('ROC Curve for Helpful Rating')\n",
    "plt.grid()\n",
    "plt.xlabel('False Positive Rate (1 - Specificity)')\n",
    "plt.ylabel('True Positive Rate (Sensitivity)')\n",
    "plt.show\n",
    "\n",
    "# ROC/AUC score\n",
    "print ('ROC_AUC Score:',roc_auc_score(y_test, probas[:,1].T))"
   ]
  },
  {
   "cell_type": "markdown",
   "metadata": {},
   "source": [
    "## Results"
   ]
  },
  {
   "cell_type": "markdown",
   "metadata": {},
   "source": [
    "## Model Evaluation and Validation"
   ]
  },
  {
   "cell_type": "markdown",
   "metadata": {},
   "source": [
    "To validate the model, we can look at a number of variables. Setting the min df to 0.01, which required the terms to appear in the documents at least 1% of the time, dramatically reduced the size of our feature space.\n",
    "\n",
    "Another variable worth investigating is the Logistic Regression algorithm's random state variable. The seed of the pseudo random number generator to utilise when shuffling the data is controlled by the random state variable for the Logistic Regression algorithm."
   ]
  },
  {
   "cell_type": "code",
   "execution_count": 25,
   "metadata": {},
   "outputs": [
    {
     "name": "stdout",
     "output_type": "stream",
     "text": [
      "Average ROC_AUC Score for 1-100 random_state: 0.7796\n"
     ]
    }
   ],
   "source": [
    "random_numbers = range(1,101)\n",
    "tot = 0.0\n",
    "for seed in random_numbers:\n",
    "    clf3 = LogisticRegression(random_state=seed)\n",
    "    clf3.fit(X_train2, y_train)\n",
    "    probas =clf3.predict_proba(X_test2)\n",
    "    tot += roc_auc_score(y_test, probas[:,1].T)\n",
    "    \n",
    "print ('Average ROC_AUC Score for 1-100 random_state: {:.4f}'.format(tot/100))"
   ]
  },
  {
   "cell_type": "markdown",
   "metadata": {},
   "source": [
    "For 100 different random states, the average ROC AUC score is 0.7795, which is the same as our optimum solution. Our solution can be considered reliable in this regard."
   ]
  },
  {
   "cell_type": "markdown",
   "metadata": {},
   "source": [
    "## Conclusion"
   ]
  },
  {
   "cell_type": "markdown",
   "metadata": {},
   "source": [
    "Our final improved model got a score of 0.77 under the ROC curve. Compared to the model without improvement, we got a score of scoring 0.74; this is a 3% improvement. This is only based on the addition of one new feature 'overall', so it's quite efficient for the model. "
   ]
  },
  {
   "cell_type": "code",
   "execution_count": null,
   "metadata": {},
   "outputs": [],
   "source": []
  }
 ],
 "metadata": {
  "kernelspec": {
   "display_name": "Python 3",
   "language": "python",
   "name": "python3"
  },
  "language_info": {
   "codemirror_mode": {
    "name": "ipython",
    "version": 3
   },
   "file_extension": ".py",
   "mimetype": "text/x-python",
   "name": "python",
   "nbconvert_exporter": "python",
   "pygments_lexer": "ipython3",
   "version": "3.8.5"
  }
 },
 "nbformat": 4,
 "nbformat_minor": 4
}
